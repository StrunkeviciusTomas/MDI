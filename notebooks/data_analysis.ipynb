{
 "cells": [
  {
   "cell_type": "markdown",
   "metadata": {},
   "source": [
    "# Flight Data Analysis\n",
    "\n",
    "This notebook contains analysis of airline flight data from 1990-2000 using ClickHouse database.\n",
    "\n",
    "## Setup and Connection"
   ]
  },
  {
   "cell_type": "code",
   "execution_count": 13,
   "metadata": {},
   "outputs": [
    {
     "name": "stdout",
     "output_type": "stream",
     "text": [
      "Connected to ClickHouse successfully!\n"
     ]
    }
   ],
   "source": [
    "import clickhouse_connect\n",
    "import pandas as pd\n",
    "from datetime import datetime\n",
    "\n",
    "\n",
    "\n",
    "client = clickhouse_connect.get_client(\n",
    "    host='localhost', \n",
    "    port=8123, \n",
    "    username='default', \n",
    "    password=''\n",
    ")\n",
    "\n",
    "print(\"Connected to ClickHouse successfully!\")"
   ]
  },
  {
   "cell_type": "markdown",
   "metadata": {},
   "source": [
    "## Data Quality Checks"
   ]
  },
  {
   "cell_type": "markdown",
   "metadata": {},
   "source": [
    "### Describe table"
   ]
  },
  {
   "cell_type": "code",
   "execution_count": 14,
   "metadata": {},
   "outputs": [
    {
     "name": "stdout",
     "output_type": "stream",
     "text": [
      "Table Schema:\n",
      "Year: Int32\n",
      "Quarter: Int32\n",
      "Month: Int32\n",
      "DayofMonth: Int32\n",
      "DayOfWeek: Int32\n",
      "FlightDate: String\n",
      "Reporting_Airline: String\n",
      "DOT_ID_Reporting_Airline: Int32\n",
      "IATA_CODE_Reporting_Airline: String\n",
      "Tail_Number: String\n",
      "Flight_Number_Reporting_Airline: Int32\n",
      "OriginAirportID: Int32\n",
      "OriginAirportSeqID: Int32\n",
      "OriginCityMarketID: Int32\n",
      "Origin: String\n",
      "OriginCityName: String\n",
      "OriginState: String\n",
      "OriginStateFips: Int32\n",
      "OriginStateName: String\n",
      "OriginWac: Int32\n",
      "DestAirportID: Int32\n",
      "DestAirportSeqID: Int32\n",
      "DestCityMarketID: Int32\n",
      "Dest: String\n",
      "DestCityName: String\n",
      "DestState: String\n",
      "DestStateFips: Int32\n",
      "DestStateName: String\n",
      "DestWac: Int32\n",
      "CRSDepTime: Int32\n",
      "DepTime: Float64\n",
      "DepDelay: Float64\n",
      "DepDelayMinutes: Float64\n",
      "DepDel15: Float64\n",
      "DepartureDelayGroups: Float64\n",
      "DepTimeBlk: String\n",
      "TaxiOut: Float64\n",
      "WheelsOff: Float64\n",
      "WheelsOn: Float64\n",
      "TaxiIn: Float64\n",
      "CRSArrTime: Int32\n",
      "ArrTime: Float64\n",
      "ArrDelay: Float64\n",
      "ArrDelayMinutes: Float64\n",
      "ArrDel15: Float64\n",
      "ArrivalDelayGroups: Float64\n",
      "ArrTimeBlk: String\n",
      "Cancelled: Float64\n",
      "CancellationCode: Float64\n",
      "Diverted: Float64\n",
      "CRSElapsedTime: Float64\n",
      "ActualElapsedTime: Float64\n",
      "AirTime: Float64\n",
      "Flights: Float64\n",
      "Distance: Float64\n",
      "DistanceGroup: Int32\n",
      "CarrierDelay: Float64\n",
      "WeatherDelay: Float64\n",
      "NASDelay: Float64\n",
      "SecurityDelay: Float64\n",
      "LateAircraftDelay: Float64\n",
      "FirstDepTime: Float64\n",
      "TotalAddGTime: Float64\n",
      "LongestAddGTime: Float64\n",
      "DivAirportLandings: Float64\n",
      "DivReachedDest: Float64\n",
      "DivActualElapsedTime: Float64\n",
      "DivArrDelay: Float64\n",
      "DivDistance: Float64\n",
      "Div1Airport: Float64\n",
      "Div1AirportID: Float64\n",
      "Div1AirportSeqID: Float64\n",
      "Div1WheelsOn: Float64\n",
      "Div1TotalGTime: Float64\n",
      "Div1LongestGTime: Float64\n",
      "Div1WheelsOff: Float64\n",
      "Div1TailNum: Float64\n",
      "Div2Airport: Float64\n",
      "Div2AirportID: Float64\n",
      "Div2AirportSeqID: Float64\n",
      "Div2WheelsOn: Float64\n",
      "Div2TotalGTime: Float64\n",
      "Div2LongestGTime: Float64\n",
      "Div2WheelsOff: Float64\n",
      "Div2TailNum: Float64\n",
      "Div3Airport: Float64\n",
      "Div3AirportID: Float64\n",
      "Div3AirportSeqID: Float64\n",
      "Div3WheelsOn: Float64\n",
      "Div3TotalGTime: Float64\n",
      "Div3LongestGTime: Float64\n",
      "Div3WheelsOff: Float64\n",
      "Div3TailNum: Float64\n",
      "Div4Airport: Float64\n",
      "Div4AirportID: Float64\n",
      "Div4AirportSeqID: Float64\n",
      "Div4WheelsOn: Float64\n",
      "Div4TotalGTime: Float64\n",
      "Div4LongestGTime: Float64\n",
      "Div4WheelsOff: Float64\n",
      "Div4TailNum: Float64\n",
      "Div5Airport: Float64\n",
      "Div5AirportID: Float64\n",
      "Div5AirportSeqID: Float64\n",
      "Div5WheelsOn: Float64\n",
      "Div5TotalGTime: Float64\n",
      "Div5LongestGTime: Float64\n",
      "Div5WheelsOff: Float64\n",
      "Div5TailNum: String\n",
      "Unnamed: 109: Float64\n"
     ]
    }
   ],
   "source": [
    "table_info = client.query(\"DESCRIBE flight_data\")\n",
    "print(\"Table Schema:\")\n",
    "for row in table_info.result_rows:\n",
    "    print(f\"{row[0]}: {row[1]}\")"
   ]
  },
  {
   "cell_type": "markdown",
   "metadata": {},
   "source": [
    "### Check total number of records"
   ]
  },
  {
   "cell_type": "code",
   "execution_count": 26,
   "metadata": {},
   "outputs": [
    {
     "name": "stdout",
     "output_type": "stream",
     "text": [
      "Total records in database: 58,377,437\n"
     ]
    }
   ],
   "source": [
    "\n",
    "total_records = client.query(\"SELECT COUNT(*) FROM flight_data\")\n",
    "print(f\"Total records in database: {total_records.result_rows[0][0]:,}\")"
   ]
  },
  {
   "cell_type": "markdown",
   "metadata": {},
   "source": [
    "### Check data range"
   ]
  },
  {
   "cell_type": "code",
   "execution_count": 16,
   "metadata": {},
   "outputs": [
    {
     "name": "stdout",
     "output_type": "stream",
     "text": [
      "Data covers years 1990 to 2000 (11 unique years)\n"
     ]
    }
   ],
   "source": [
    "\n",
    "date_range = client.query(\"\"\"\n",
    "    SELECT \n",
    "        MIN(Year) as min_year,\n",
    "        MAX(Year) as max_year,\n",
    "        COUNT(DISTINCT Year) as unique_years\n",
    "    FROM flight_data\n",
    "\"\"\")\n",
    "\n",
    "min_year, max_year, unique_years = date_range.result_rows[0]\n",
    "print(f\"Data covers years {min_year} to {max_year} ({unique_years} unique years)\")"
   ]
  },
  {
   "cell_type": "markdown",
   "metadata": {},
   "source": [
    "### Check for missing partitions"
   ]
  },
  {
   "cell_type": "code",
   "execution_count": 17,
   "metadata": {},
   "outputs": [
    {
     "name": "stdout",
     "output_type": "stream",
     "text": [
      "Records per year/month:\n",
      "     Year  Month  RecordCount\n",
      "0    1990      1       442700\n",
      "1    1990      2       396926\n",
      "2    1990      3       444320\n",
      "3    1990      4       433420\n",
      "4    1990      5       447371\n",
      "..    ...    ...          ...\n",
      "127  2000      8       491366\n",
      "128  2000      9       463097\n",
      "129  2000     10       485761\n",
      "130  2000     11       467251\n",
      "131  2000     12       481038\n",
      "\n",
      "[132 rows x 3 columns]\n",
      "\n",
      "No missing partitions found!\n"
     ]
    }
   ],
   "source": [
    "partitions = client.query(\"\"\"\n",
    "    SELECT \n",
    "        Year,\n",
    "        Month,\n",
    "        COUNT(*) as record_count\n",
    "    FROM flight_data\n",
    "    GROUP BY Year, Month\n",
    "    ORDER BY Year, Month\n",
    "\"\"\")\n",
    "\n",
    "partition_df = pd.DataFrame(partitions.result_rows, columns=['Year', 'Month', 'RecordCount'])\n",
    "print(\"Records per year/month:\")\n",
    "print(partition_df)\n",
    "\n",
    "expected_partitions = []\n",
    "for year in range(1990, 2001):\n",
    "    for month in range(1, 13):\n",
    "        expected_partitions.append((year, month))\n",
    "\n",
    "actual_partitions = set(zip(partition_df['Year'], partition_df['Month']))\n",
    "missing_partitions = set(expected_partitions) - actual_partitions\n",
    "\n",
    "if missing_partitions:\n",
    "    print(f\"\\nMissing partitions: {missing_partitions}\")\n",
    "else:\n",
    "    print(\"\\nNo missing partitions found!\")"
   ]
  },
  {
   "cell_type": "markdown",
   "metadata": {},
   "source": [
    "## Analysis Questions\n",
    "\n",
    "### 1. On which day were there the most flights?"
   ]
  },
  {
   "cell_type": "code",
   "execution_count": 18,
   "metadata": {},
   "outputs": [
    {
     "name": "stdout",
     "output_type": "stream",
     "text": [
      "Day with most flights: 2000-12-18 with 16,218 flights\n"
     ]
    }
   ],
   "source": [
    "most_flights_day = client.query(\"\"\"\n",
    "    SELECT \n",
    "        Year,\n",
    "        Month,\n",
    "        DayofMonth,\n",
    "        COUNT(*) as flight_count\n",
    "    FROM flight_data\n",
    "    GROUP BY Year, Month, DayofMonth\n",
    "    ORDER BY flight_count DESC\n",
    "    LIMIT 1\n",
    "\"\"\")\n",
    "\n",
    "year, month, day, count = most_flights_day.result_rows[0]\n",
    "print(f\"Day with most flights: {year}-{month:02d}-{day:02d} with {count:,} flights\")"
   ]
  },
  {
   "cell_type": "markdown",
   "metadata": {},
   "source": [
    "### 2. Which day of the week had the fewest flights in 1995?"
   ]
  },
  {
   "cell_type": "code",
   "execution_count": 19,
   "metadata": {},
   "outputs": [
    {
     "name": "stdout",
     "output_type": "stream",
     "text": [
      "Day of week with fewest flights in 1995: Saturday with 695,286 flights\n"
     ]
    }
   ],
   "source": [
    "fewest_flights_dow_1995 = client.query(\"\"\"\n",
    "    SELECT \n",
    "        DayOfWeek,\n",
    "        COUNT(*) as flight_count\n",
    "    FROM flight_data\n",
    "    WHERE Year = 1995\n",
    "    GROUP BY DayOfWeek\n",
    "    ORDER BY flight_count ASC\n",
    "    LIMIT 1\n",
    "\"\"\")\n",
    "\n",
    "dow, count = fewest_flights_dow_1995.result_rows[0]\n",
    "day_names = {1: 'Monday', 2: 'Tuesday', 3: 'Wednesday', 4: 'Thursday', 5: 'Friday', 6: 'Saturday', 7: 'Sunday'}\n",
    "print(f\"Day of week with fewest flights in 1995: {day_names.get(dow, dow)} with {count:,} flights\")"
   ]
  },
  {
   "cell_type": "markdown",
   "metadata": {},
   "source": [
    "### 3. Number of flights delayed by more than 10 minutes, grouped by day of the week"
   ]
  },
  {
   "cell_type": "code",
   "execution_count": 20,
   "metadata": {},
   "outputs": [
    {
     "name": "stdout",
     "output_type": "stream",
     "text": [
      "Flights delayed by more than 10 minutes by day of week:\n",
      "Monday: 1,419,299 flights\n",
      "Tuesday: 1,349,905 flights\n",
      "Wednesday: 1,504,265 flights\n",
      "Thursday: 1,744,321 flights\n",
      "Friday: 1,898,026 flights\n",
      "Saturday: 1,293,669 flights\n",
      "Sunday: 1,530,053 flights\n"
     ]
    }
   ],
   "source": [
    "delays_by_dow = client.query(\"\"\"\n",
    "    SELECT \n",
    "        DayOfWeek,\n",
    "        COUNT(*) as delayed_flights\n",
    "    FROM flight_data\n",
    "    WHERE DepDelay > 10\n",
    "    GROUP BY DayOfWeek\n",
    "    ORDER BY DayOfWeek\n",
    "\"\"\")\n",
    "\n",
    "print(\"Flights delayed by more than 10 minutes by day of week:\")\n",
    "for dow, count in delays_by_dow.result_rows:\n",
    "    print(f\"{day_names.get(dow, dow)}: {count:,} flights\")"
   ]
  },
  {
   "cell_type": "markdown",
   "metadata": {},
   "source": [
    "### 4. Number of delays by carrier for 1997"
   ]
  },
  {
   "cell_type": "code",
   "execution_count": 21,
   "metadata": {},
   "outputs": [
    {
     "name": "stdout",
     "output_type": "stream",
     "text": [
      "Number of delays by carrier for 1997:\n",
      "DL: 481,009 delayed flights\n",
      "UA: 412,867 delayed flights\n",
      "US: 317,819 delayed flights\n",
      "WN: 290,235 delayed flights\n",
      "AA: 246,490 delayed flights\n",
      "NW: 212,544 delayed flights\n",
      "CO: 169,227 delayed flights\n",
      "TW: 82,727 delayed flights\n",
      "HP: 64,982 delayed flights\n",
      "AS: 49,442 delayed flights\n"
     ]
    }
   ],
   "source": [
    "delays_by_carrier_1997 = client.query(\"\"\"\n",
    "    SELECT \n",
    "        Reporting_Airline as UniqueCarrier,\n",
    "        COUNT(*) as delayed_flights\n",
    "    FROM flight_data\n",
    "    WHERE Year = 1997 AND DepDelay > 0\n",
    "    GROUP BY UniqueCarrier\n",
    "    ORDER BY delayed_flights DESC\n",
    "\"\"\")\n",
    "\n",
    "print(\"Number of delays by carrier for 1997:\")\n",
    "for carrier, count in delays_by_carrier_1997.result_rows:\n",
    "    print(f\"{carrier}: {count:,} delayed flights\")"
   ]
  },
  {
   "cell_type": "markdown",
   "metadata": {},
   "source": [
    "### 5. Percentage of delays by carrier for 1997"
   ]
  },
  {
   "cell_type": "code",
   "execution_count": 22,
   "metadata": {},
   "outputs": [
    {
     "name": "stdout",
     "output_type": "stream",
     "text": [
      "Percentage of delays by carrier for 1997:\n",
      "UA: 55.50% (412,867 out of 743,847 flights)\n",
      "DL: 52.18% (481,009 out of 921,850 flights)\n",
      "US: 44.22% (317,819 out of 718,751 flights)\n",
      "CO: 41.96% (169,227 out of 403,349 flights)\n",
      "NW: 39.57% (212,544 out of 537,152 flights)\n",
      "AA: 37.12% (246,490 out of 663,954 flights)\n",
      "WN: 36.51% (290,235 out of 794,849 flights)\n",
      "AS: 33.46% (49,442 out of 147,750 flights)\n",
      "HP: 31.50% (64,982 out of 206,304 flights)\n",
      "TW: 30.19% (82,727 out of 274,037 flights)\n"
     ]
    }
   ],
   "source": [
    "delay_percentage_by_carrier_1997 = client.query(\"\"\"\n",
    "    SELECT \n",
    "        Reporting_Airline as UniqueCarrier,\n",
    "        COUNT(*) as total_flights,\n",
    "        SUM(CASE WHEN DepDelay > 0 THEN 1 ELSE 0 END) as delayed_flights,\n",
    "        (SUM(CASE WHEN DepDelay > 0 THEN 1 ELSE 0 END) * 100.0 / COUNT(*)) as delay_percentage\n",
    "    FROM flight_data\n",
    "    WHERE Year = 1997\n",
    "    GROUP BY UniqueCarrier\n",
    "    ORDER BY delay_percentage DESC\n",
    "\"\"\")\n",
    "\n",
    "print(\"Percentage of delays by carrier for 1997:\")\n",
    "for carrier, total, delayed, percentage in delay_percentage_by_carrier_1997.result_rows:\n",
    "    print(f\"{carrier}: {percentage:.2f}% ({delayed:,} out of {total:,} flights)\")"
   ]
  },
  {
   "cell_type": "markdown",
   "metadata": {},
   "source": [
    "### 6. Percentage of flights delayed for more than 10 minutes, grouped by year"
   ]
  },
  {
   "cell_type": "code",
   "execution_count": 23,
   "metadata": {},
   "outputs": [
    {
     "name": "stdout",
     "output_type": "stream",
     "text": [
      "Percentage of flights delayed for more than 10 minutes by year:\n",
      "1990: 16.65% (877,347 out of 5,270,893 flights)\n",
      "1991: 14.72% (747,406 out of 5,076,925 flights)\n",
      "1992: 14.68% (747,296 out of 5,092,157 flights)\n",
      "1993: 15.42% (782,124 out of 5,070,501 flights)\n",
      "1994: 16.57% (858,232 out of 5,180,048 flights)\n",
      "1995: 19.39% (1,033,173 out of 5,327,435 flights)\n",
      "1996: 22.18% (1,187,220 out of 5,351,983 flights)\n",
      "1997: 19.17% (1,037,187 out of 5,411,843 flights)\n",
      "1998: 19.36% (1,042,287 out of 5,384,721 flights)\n",
      "1999: 20.09% (1,110,409 out of 5,527,884 flights)\n",
      "2000: 23.17% (1,316,857 out of 5,683,047 flights)\n"
     ]
    }
   ],
   "source": [
    "delay_percentage_by_year = client.query(\"\"\"\n",
    "    SELECT \n",
    "        Year,\n",
    "        COUNT(*) as total_flights,\n",
    "        SUM(CASE WHEN DepDelay > 10 THEN 1 ELSE 0 END) as delayed_flights,\n",
    "        (SUM(CASE WHEN DepDelay > 10 THEN 1 ELSE 0 END) * 100.0 / COUNT(*)) as delay_percentage\n",
    "    FROM flight_data\n",
    "    GROUP BY Year\n",
    "    ORDER BY Year\n",
    "\"\"\")\n",
    "\n",
    "print(\"Percentage of flights delayed for more than 10 minutes by year:\")\n",
    "for year, total, delayed, percentage in delay_percentage_by_year.result_rows:\n",
    "    print(f\"{year}: {percentage:.2f}% ({delayed:,} out of {total:,} flights)\")"
   ]
  },
  {
   "cell_type": "markdown",
   "metadata": {},
   "source": [
    "### 7. Top 10 most popular destinations"
   ]
  },
  {
   "cell_type": "code",
   "execution_count": 24,
   "metadata": {},
   "outputs": [
    {
     "name": "stdout",
     "output_type": "stream",
     "text": [
      "Top 10 most popular destinations:\n",
      "1. ORD: 3,179,174 flights\n",
      "2. DFW: 2,781,284 flights\n",
      "3. ATL: 2,610,247 flights\n",
      "4. LAX: 1,926,312 flights\n",
      "5. PHX: 1,715,468 flights\n",
      "6. STL: 1,712,218 flights\n",
      "7. DTW: 1,558,308 flights\n",
      "8. DEN: 1,540,166 flights\n",
      "9. SFO: 1,422,341 flights\n",
      "10. MSP: 1,418,363 flights\n"
     ]
    }
   ],
   "source": [
    "top_destinations = client.query(\"\"\"\n",
    "    SELECT \n",
    "        Dest,\n",
    "        COUNT(*) as flight_count\n",
    "    FROM flight_data\n",
    "    GROUP BY Dest\n",
    "    ORDER BY flight_count DESC\n",
    "    LIMIT 10\n",
    "\"\"\")\n",
    "\n",
    "print(\"Top 10 most popular destinations:\")\n",
    "for i, (dest, count) in enumerate(top_destinations.result_rows, 1):\n",
    "    print(f\"{i}. {dest}: {count:,} flights\")"
   ]
  }
 ],
 "metadata": {
  "kernelspec": {
   "display_name": "Python 3",
   "language": "python",
   "name": "python3"
  },
  "language_info": {
   "codemirror_mode": {
    "name": "ipython",
    "version": 3
   },
   "file_extension": ".py",
   "mimetype": "text/x-python",
   "name": "python",
   "nbconvert_exporter": "python",
   "pygments_lexer": "ipython3",
   "version": "3.13.5"
  }
 },
 "nbformat": 4,
 "nbformat_minor": 4
}
